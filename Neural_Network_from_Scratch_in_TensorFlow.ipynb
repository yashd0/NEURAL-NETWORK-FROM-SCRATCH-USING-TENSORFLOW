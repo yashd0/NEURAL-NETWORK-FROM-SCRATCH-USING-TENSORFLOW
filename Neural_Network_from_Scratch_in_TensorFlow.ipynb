{
  "nbformat": 4,
  "nbformat_minor": 0,
  "metadata": {
    "colab": {
      "provenance": []
    },
    "kernelspec": {
      "name": "python3",
      "display_name": "Python 3"
    },
    "language_info": {
      "name": "python"
    }
  },
  "cells": [
    {
      "cell_type": "markdown",
      "source": [
        "Neural Network from Scratch in TensorFlow\n",
        "\n",
        "\n",
        "\n",
        "Task 1: Introduction and Importing Libraries"
      ],
      "metadata": {
        "id": "lYJkdUmSLNTU"
      }
    },
    {
      "cell_type": "code",
      "execution_count": 2,
      "metadata": {
        "colab": {
          "base_uri": "https://localhost:8080/"
        },
        "id": "RoP2uHurKYci",
        "outputId": "8ac52453-3f04-4e71-8436-efeee72916ef"
      },
      "outputs": [
        {
          "output_type": "stream",
          "name": "stdout",
          "text": [
            "TensorFlow Version: 2.11.0\n"
          ]
        }
      ],
      "source": [
        "import tensorflow as tf\n",
        "import numpy as np\n",
        "import matplotlib.pyplot as plt\n",
        "import nn_utils\n",
        "%matplotlib inline\n",
        "\n",
        "print('TensorFlow Version:', tf.__version__)"
      ]
    },
    {
      "cell_type": "markdown",
      "source": [
        "\n",
        "Task 2: Initializing Neural Network"
      ],
      "metadata": {
        "id": "HjnGCdIKLa61"
      }
    },
    {
      "cell_type": "code",
      "source": [
        "class NeuralNetwork:\n",
        "    def __init__(self, layers):\n",
        "        self.layers = layers\n",
        "        self.L = len(layers)\n",
        "        self.num_features = layers[0]\n",
        "        self.num_classes = layers[-1]\n",
        "        \n",
        "        self.W = {}\n",
        "        self.b = {}\n",
        "        \n",
        "        self.dW = {}\n",
        "        self.db = {}\n",
        "        \n",
        "        self.setup()\n",
        "        \n",
        "    def setup(self):\n",
        "        for i in range(1, self.L):\n",
        "            self.W[i] = tf.Variable(tf.random.normal(shape=(self.layers[i], self.layers[i-1])))\n",
        "            self.b[i] = tf.Variable(tf.random.normal(shape=(self.layers[i], 1)))"
      ],
      "metadata": {
        "id": "G-_ffJ28Kp5F"
      },
      "execution_count": 3,
      "outputs": []
    },
    {
      "cell_type": "markdown",
      "source": [
        "\n",
        "Task 3: Forward Pass"
      ],
      "metadata": {
        "id": "YGf2O8TfLde0"
      }
    },
    {
      "cell_type": "code",
      "source": [
        "class NeuralNetwork(NeuralNetwork):\n",
        "    def forward_pass(self, A):\n",
        "        A = tf.convert_to_tensor(A, dtype=tf.float32)\n",
        "        for i in range(1, self.L):\n",
        "            Z = tf.matmul(A, tf.transpose(self.W[i])) + tf.transpose(self.b[i])\n",
        "            if i != self.L-1:\n",
        "                A = tf.nn.relu(Z)\n",
        "            else:\n",
        "                A = Z\n",
        "        return A"
      ],
      "metadata": {
        "id": "clnhBHT6Ksu0"
      },
      "execution_count": 4,
      "outputs": []
    },
    {
      "cell_type": "markdown",
      "source": [
        "Task 4: Computing Loss and Updating Parameters\n",
        "\n",
        "\n"
      ],
      "metadata": {
        "id": "BsPecw1zLfaU"
      }
    },
    {
      "cell_type": "code",
      "source": [
        "class NeuralNetwork(NeuralNetwork):\n",
        "    def compute_loss(self, A, Y):\n",
        "        return tf.reduce_mean(tf.nn.softmax_cross_entropy_with_logits(Y, A))\n",
        "    \n",
        "    def update_params(self, lr):\n",
        "        for i in range(1, self.L):\n",
        "            self.W[i].assign_sub(lr * self.dW[i])\n",
        "            self.b[i].assign_sub(lr * self.db[i])"
      ],
      "metadata": {
        "id": "qpwxUvQUKva8"
      },
      "execution_count": 5,
      "outputs": []
    },
    {
      "cell_type": "markdown",
      "source": [
        "Task 5: Predict and Info Function"
      ],
      "metadata": {
        "id": "TMwmZLt3LigV"
      }
    },
    {
      "cell_type": "code",
      "source": [
        "class NeuralNetwork(NeuralNetwork):\n",
        "    def predict(self, X):\n",
        "        A = self.forward_pass(X)\n",
        "        return tf.argmax(tf.nn.softmax(A), axis=1)\n",
        "    \n",
        "    def info(self):\n",
        "        num_params = 0\n",
        "        for i in range(1, self.L):\n",
        "            num_params += self.W[i].shape[0] * self.W[i].shape[1]\n",
        "            num_params += self.b[i].shape[0]\n",
        "        print('Input Features:', self.num_features)\n",
        "        print('Number of Classes:', self.num_classes)\n",
        "        print('Hidden Layers:')\n",
        "        print('--------------')\n",
        "        for i in range(1, self.L-1):\n",
        "            print('Layer {}, Units {}'.format(i, self.layers[i]))\n",
        "        print('--------------')\n",
        "        print('Number of parameters:', num_params)"
      ],
      "metadata": {
        "id": "Fuh4aPibKxek"
      },
      "execution_count": 6,
      "outputs": []
    },
    {
      "cell_type": "markdown",
      "source": [
        "Task 6: Training on Batch"
      ],
      "metadata": {
        "id": "gzHxgMq6LkF9"
      }
    },
    {
      "cell_type": "code",
      "source": [
        "class NeuralNetwork(NeuralNetwork):\n",
        "    def train_on_batch(self, X, Y, lr):\n",
        "        X = tf.convert_to_tensor(X, dtype=tf.float32)\n",
        "        Y = tf.convert_to_tensor(Y, dtype=tf.float32)\n",
        "        \n",
        "        with tf.GradientTape(persistent=True) as tape:\n",
        "            A = self.forward_pass(X)\n",
        "            loss = self.compute_loss(A, Y)\n",
        "        for key in self.W.keys():\n",
        "            self.dW[key] = tape.gradient(loss, self.W[key])\n",
        "            self.db[key] = tape.gradient(loss, self.b[key])\n",
        "        del tape\n",
        "        self.update_params(lr)\n",
        "        \n",
        "        return loss.numpy()"
      ],
      "metadata": {
        "id": "yXMGRgGWK0OM"
      },
      "execution_count": 7,
      "outputs": []
    },
    {
      "cell_type": "markdown",
      "source": [
        "Task 7: Training on Complete Set"
      ],
      "metadata": {
        "id": "r5GhsnEJLmod"
      }
    },
    {
      "cell_type": "code",
      "source": [
        "class NeuralNetwork(NeuralNetwork):\n",
        "    def train(self, x_train, y_train, x_test, y_test, epochs, steps_per_epoch, batch_size, lr):\n",
        "        history = {\n",
        "            'val_loss': [],\n",
        "            'train_loss': [],\n",
        "            'val_acc': []\n",
        "        }\n",
        "        \n",
        "        for e in range(0, epochs):\n",
        "            epoch_train_loss = 0.\n",
        "            print('Epoch {}'.format(e), end='.')\n",
        "            for i in range(0, steps_per_epoch):\n",
        "                x_batch = x_train[i*batch_size:(i+1)*batch_size]\n",
        "                y_batch = y_train[i*batch_size:(i+1)*batch_size]\n",
        "                batch_loss = self.train_on_batch(x_batch, y_batch, lr)\n",
        "                epoch_train_loss += batch_loss\n",
        "                \n",
        "                if i%int(steps_per_epoch/10) == 0:\n",
        "                    print(end='.')\n",
        "                    \n",
        "            history['train_loss'].append(epoch_train_loss/steps_per_epoch)\n",
        "            \n",
        "            val_A = self.forward_pass(x_test)\n",
        "            history['val_loss'].append(self.compute_loss(val_A, y_test).numpy())\n",
        "            \n",
        "            val_preds = self.predict(x_test)\n",
        "            history['val_acc'].append(np.mean(np.argmax(y_test, axis=1) == val_preds.numpy()))\n",
        "            print('Val Acc:', history['val_acc'][-1])\n",
        "        return history"
      ],
      "metadata": {
        "id": "ugG6r-fGK2VV"
      },
      "execution_count": 8,
      "outputs": []
    },
    {
      "cell_type": "markdown",
      "source": [
        "Task 8: Application"
      ],
      "metadata": {
        "id": "vwU0mLrOLpSN"
      }
    },
    {
      "cell_type": "code",
      "source": [
        "(x_train, y_train), (x_test, y_test) = nn_utils.load_data()\n",
        "nn_utils.plot_random_examples(x_train, y_train).show()"
      ],
      "metadata": {
        "colab": {
          "base_uri": "https://localhost:8080/",
          "height": 328
        },
        "id": "OdR7_jydK4vt",
        "outputId": "ee6fea9a-f06f-42e9-bcb0-cd3b736ab560"
      },
      "execution_count": 9,
      "outputs": [
        {
          "output_type": "stream",
          "name": "stdout",
          "text": [
            "Downloading data from https://storage.googleapis.com/tensorflow/tf-keras-datasets/mnist.npz\n",
            "11490434/11490434 [==============================] - 0s 0us/step\n"
          ]
        },
        {
          "output_type": "display_data",
          "data": {
            "text/plain": [
              "<Figure size 720x360 with 10 Axes>"
            ],
            "image/png": "[encoded data removed]"
          },
          "metadata": {}
        }
      ]
    },
    {
      "cell_type": "code",
      "source": [
        "net = NeuralNetwork([784, 128, 128, 10])\n",
        "net.info()"
      ],
      "metadata": {
        "colab": {
          "base_uri": "https://localhost:8080/"
        },
        "id": "X-GZggbhK6gE",
        "outputId": "aee79bbb-abcb-42e6-df94-51a17d31d251"
      },
      "execution_count": 10,
      "outputs": [
        {
          "output_type": "stream",
          "name": "stdout",
          "text": [
            "Input Features: 784\n",
            "Number of Classes: 10\n",
            "Hidden Layers:\n",
            "--------------\n",
            "Layer 1, Units 128\n",
            "Layer 2, Units 128\n",
            "--------------\n",
            "Number of parameters: 118282\n"
          ]
        }
      ]
    },
    {
      "cell_type": "code",
      "source": [
        "batch_size = 120\n",
        "epochs = 5\n",
        "steps_per_epoch = int(x_train.shape[0]/batch_size)\n",
        "lr = 3e-3\n",
        "\n",
        "print('Steps per epoch:', steps_per_epoch)"
      ],
      "metadata": {
        "colab": {
          "base_uri": "https://localhost:8080/"
        },
        "id": "yXFNz1LILAQ2",
        "outputId": "3dc73cf1-a2ca-4728-d7ca-2283b0b3fc68"
      },
      "execution_count": 12,
      "outputs": [
        {
          "output_type": "stream",
          "name": "stdout",
          "text": [
            "Steps per epoch: 500\n"
          ]
        }
      ]
    },
    {
      "cell_type": "code",
      "source": [
        "history = net.train(\n",
        "    x_train, y_train,\n",
        "    x_test, y_test,\n",
        "    epochs, steps_per_epoch,\n",
        "    batch_size, lr\n",
        ")"
      ],
      "metadata": {
        "colab": {
          "base_uri": "https://localhost:8080/"
        },
        "id": "9vJFRPFlLGNs",
        "outputId": "bb7f75d7-5b37-418e-c05d-b48e24dfd640"
      },
      "execution_count": 13,
      "outputs": [
        {
          "output_type": "stream",
          "name": "stdout",
          "text": [
            "Epoch 0...........Val Acc: 0.8148\n",
            "Epoch 1...........Val Acc: 0.8484\n",
            "Epoch 2...........Val Acc: 0.861\n",
            "Epoch 3...........Val Acc: 0.8673\n",
            "Epoch 4...........Val Acc: 0.8768\n"
          ]
        }
      ]
    },
    {
      "cell_type": "markdown",
      "source": [
        "Task 9: Results"
      ],
      "metadata": {
        "id": "AJ57v0gbLr79"
      }
    },
    {
      "cell_type": "code",
      "source": [
        "nn_utils.plot_results(history).show()"
      ],
      "metadata": {
        "colab": {
          "base_uri": "https://localhost:8080/",
          "height": 279
        },
        "id": "NlhUaMbwLtf9",
        "outputId": "53618c3e-6531-4b7e-866c-4373e534dc6b"
      },
      "execution_count": 14,
      "outputs": [
        {
          "output_type": "display_data",
          "data": {
            "text/plain": [
              "<Figure size 864x288 with 2 Axes>"
            ],
            "image/png": "[encoded data removed]"
          },
          "metadata": {
            "needs_background": "light"
          }
        }
      ]
    },
    {
      "cell_type": "code",
      "source": [
        "preds = net.predict(x_test)"
      ],
      "metadata": {
        "id": "PiFGVRHOLxXU"
      },
      "execution_count": 15,
      "outputs": []
    },
    {
      "cell_type": "code",
      "source": [
        "nn_utils.plot_random_examples(x_test, y_test, preds.numpy()).show()\n"
      ],
      "metadata": {
        "colab": {
          "base_uri": "https://localhost:8080/",
          "height": 293
        },
        "id": "cdq3uA9OL0VF",
        "outputId": "6247c777-aaab-4f8c-91e0-df76784d9024"
      },
      "execution_count": 16,
      "outputs": [
        {
          "output_type": "display_data",
          "data": {
            "text/plain": [
              "<Figure size 720x360 with 10 Axes>"
            ],
            "image/png": "[encoded data removed]"
          },
          "metadata": {}
        }
      ]
    }
  ]
}